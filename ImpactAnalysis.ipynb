{
  "nbformat": 4,
  "nbformat_minor": 0,
  "metadata": {
    "colab": {
      "name": "ImpactAnalysis.ipynb",
      "version": "0.3.2",
      "provenance": [],
      "collapsed_sections": [],
      "toc_visible": true,
      "include_colab_link": true
    },
    "kernelspec": {
      "name": "python3",
      "display_name": "Python 3"
    }
  },
  "cells": [
    {
      "cell_type": "markdown",
      "metadata": {
        "id": "view-in-github",
        "colab_type": "text"
      },
      "source": [
        "<a href=\"https://colab.research.google.com/github/takedatmh/git/blob/master/ImpactAnalysis.ipynb\" target=\"_parent\"><img src=\"https://colab.research.google.com/assets/colab-badge.svg\" alt=\"Open In Colab\"/></a>"
      ]
    },
    {
      "metadata": {
        "id": "nHSXqOiNysZQ",
        "colab_type": "code",
        "outputId": "0c3ff3d7-ac67-43ee-d68b-636e6a7ec178",
        "colab": {
          "base_uri": "https://localhost:8080/",
          "height": 236
        }
      },
      "cell_type": "code",
      "source": [
        "import yaml\n",
        "\n",
        "#Read yaml file.\n",
        "with open('input.yaml') as file:\n",
        "    obj = yaml.load(file)\n",
        "    var = (yaml.dump(obj))\n",
        "    var = list(var.split(\",\"))\n",
        "    print(var)\n"
      ],
      "execution_count": 6,
      "outputs": [
        {
          "output_type": "error",
          "ename": "FileNotFoundError",
          "evalue": "ignored",
          "traceback": [
            "\u001b[0;31m---------------------------------------------------------------------------\u001b[0m",
            "\u001b[0;31mFileNotFoundError\u001b[0m                         Traceback (most recent call last)",
            "\u001b[0;32m<ipython-input-6-e3989586d00e>\u001b[0m in \u001b[0;36m<module>\u001b[0;34m()\u001b[0m\n\u001b[1;32m      2\u001b[0m \u001b[0;34m\u001b[0m\u001b[0m\n\u001b[1;32m      3\u001b[0m \u001b[0;31m#Read yaml file.\u001b[0m\u001b[0;34m\u001b[0m\u001b[0;34m\u001b[0m\u001b[0;34m\u001b[0m\u001b[0m\n\u001b[0;32m----> 4\u001b[0;31m \u001b[0;32mwith\u001b[0m \u001b[0mopen\u001b[0m\u001b[0;34m(\u001b[0m\u001b[0;34m'input.yaml'\u001b[0m\u001b[0;34m)\u001b[0m \u001b[0;32mas\u001b[0m \u001b[0mfile\u001b[0m\u001b[0;34m:\u001b[0m\u001b[0;34m\u001b[0m\u001b[0;34m\u001b[0m\u001b[0m\n\u001b[0m\u001b[1;32m      5\u001b[0m     \u001b[0mobj\u001b[0m \u001b[0;34m=\u001b[0m \u001b[0myaml\u001b[0m\u001b[0;34m.\u001b[0m\u001b[0mload\u001b[0m\u001b[0;34m(\u001b[0m\u001b[0mfile\u001b[0m\u001b[0;34m)\u001b[0m\u001b[0;34m\u001b[0m\u001b[0;34m\u001b[0m\u001b[0m\n\u001b[1;32m      6\u001b[0m     \u001b[0mvar\u001b[0m \u001b[0;34m=\u001b[0m \u001b[0;34m(\u001b[0m\u001b[0myaml\u001b[0m\u001b[0;34m.\u001b[0m\u001b[0mdump\u001b[0m\u001b[0;34m(\u001b[0m\u001b[0mobj\u001b[0m\u001b[0;34m)\u001b[0m\u001b[0;34m)\u001b[0m\u001b[0;34m\u001b[0m\u001b[0;34m\u001b[0m\u001b[0m\n",
            "\u001b[0;31mFileNotFoundError\u001b[0m: [Errno 2] No such file or directory: 'input.yaml'"
          ]
        }
      ]
    },
    {
      "metadata": {
        "id": "79EYG35hzrlu",
        "colab_type": "code",
        "colab": {
          "base_uri": "https://localhost:8080/",
          "height": 236
        },
        "outputId": "a7a1847d-be82-43e1-8174-d4f6ad35941b"
      },
      "cell_type": "code",
      "source": [
        "#Create Task List.\n",
        "list_task = []\n",
        "    \n",
        "for i in var:\n",
        "    if \"put\" in i:\n",
        "        if \"T1_put\" in list_task :\n",
        "            list_task.append(\"T5_ctl\")\n",
        "        else:\n",
        "            list_task.append(\"T1_put\")\n",
        "    elif \"get\" in i:\n",
        "        list_task.append(\"T2_get\")\n",
        "    elif \"post\" in i:\n",
        "        list_task.append(\"T3_post\")\n",
        "    elif \"delete\" in i:\n",
        "        list_task.append(\"T4_delete\")\n",
        "\n",
        "print(list_task)\n"
      ],
      "execution_count": 7,
      "outputs": [
        {
          "output_type": "error",
          "ename": "NameError",
          "evalue": "ignored",
          "traceback": [
            "\u001b[0;31m---------------------------------------------------------------------------\u001b[0m",
            "\u001b[0;31mNameError\u001b[0m                                 Traceback (most recent call last)",
            "\u001b[0;32m<ipython-input-7-6ed3e0b1779a>\u001b[0m in \u001b[0;36m<module>\u001b[0;34m()\u001b[0m\n\u001b[1;32m      1\u001b[0m \u001b[0mlist_task\u001b[0m \u001b[0;34m=\u001b[0m \u001b[0;34m[\u001b[0m\u001b[0;34m]\u001b[0m\u001b[0;34m\u001b[0m\u001b[0;34m\u001b[0m\u001b[0m\n\u001b[1;32m      2\u001b[0m \u001b[0;34m\u001b[0m\u001b[0m\n\u001b[0;32m----> 3\u001b[0;31m \u001b[0;32mfor\u001b[0m \u001b[0mi\u001b[0m \u001b[0;32min\u001b[0m \u001b[0mvar\u001b[0m\u001b[0;34m:\u001b[0m\u001b[0;34m\u001b[0m\u001b[0;34m\u001b[0m\u001b[0m\n\u001b[0m\u001b[1;32m      4\u001b[0m     \u001b[0;32mif\u001b[0m \u001b[0;34m\"put\"\u001b[0m \u001b[0;32min\u001b[0m \u001b[0mi\u001b[0m\u001b[0;34m:\u001b[0m\u001b[0;34m\u001b[0m\u001b[0;34m\u001b[0m\u001b[0m\n\u001b[1;32m      5\u001b[0m         \u001b[0;32mif\u001b[0m \u001b[0;34m\"T1_put\"\u001b[0m \u001b[0;32min\u001b[0m \u001b[0mlist_task\u001b[0m \u001b[0;34m:\u001b[0m\u001b[0;34m\u001b[0m\u001b[0;34m\u001b[0m\u001b[0m\n",
            "\u001b[0;31mNameError\u001b[0m: name 'var' is not defined"
          ]
        }
      ]
    },
    {
      "metadata": {
        "id": "R2mdVm4n0lSf",
        "colab_type": "code",
        "colab": {
          "base_uri": "https://localhost:8080/",
          "height": 34
        },
        "outputId": "bb3a2314-bd8e-47f6-84a1-ba463a521a73"
      },
      "cell_type": "code",
      "source": [
        "#Create CRUD list.\n",
        "list_CRUD = []\n",
        "\n",
        "for name in list_task:\n",
        "    print(name)\n",
        "    if \"put\" in name:\n",
        "        list_CRUD.append(\"C\")\n",
        "    elif -1 != name.find(\"get\"):\n",
        "        list_CRUD.append(\"R\")\n",
        "    elif -1 != name.find(\"post\"):\n",
        "        list_CRUD.append(\"U\")\n",
        "    elif -1 != name.find(\"delete\"):\n",
        "        list_CRUD.append(\"D\")\n",
        "#    elif -1 != name.find(\"ctl\"):\n",
        "#        list_CRUD.append(\"U\")\n",
        "        \n",
        "            \n",
        "print(list_CRUD)"
      ],
      "execution_count": 9,
      "outputs": [
        {
          "output_type": "stream",
          "text": [
            "[]\n"
          ],
          "name": "stdout"
        }
      ]
    },
    {
      "metadata": {
        "id": "QJSGreRV0mF0",
        "colab_type": "code",
        "colab": {}
      },
      "cell_type": "code",
      "source": [
        "list_task =   [\"T1_put\",\"T2_get\",\"T3_post\",\"T4_delete\"],#Task\n",
        "list_CRUD =   [\"C\",\"R\",\"U\",\"D\",\"U\"],#Ds1\n",
        "list_S01_IO =   [\"IN\",\"\",\"\",\"\",\"\"],#S01_put\n",
        "list_SO2_IO =  [\"\",\"IN OUT\",\"\",\"\",\"\"],#So2_get\n",
        "list_SO3_IO =  [\"\",\"\",\"IN\",\"\",\"\"],#So3_post\n",
        "list_SO4_IO =  [\"\",\"\",\"\",\"IN\",\"\"]#So4_delete\n"
      ],
      "execution_count": 0,
      "outputs": []
    },
    {
      "metadata": {
        "id": "DLO_RFJY0uKU",
        "colab_type": "code",
        "outputId": "40eb3f88-d1c5-4acf-b64b-e5478a3c67b1",
        "colab": {
          "base_uri": "https://localhost:8080/",
          "height": 173
        }
      },
      "cell_type": "code",
      "source": [
        "import pandas as pd\n",
        "\n",
        "df_exCRUD =\\\n",
        "pd.DataFrame([\n",
        "              [\"T1_put\",\"T2_get\",\"T3_post\",\"T4_delete\"],#Task\n",
        "              #[\"C\",\"R\",\"U\",\"D\"],#Ds1\n",
        "              [\"C\",\"R\",\"U\",\"D\"],#Ds1\n",
        "              #[\"\",\"\",\"\",\"\",\"U\"],#Ds2\n",
        "              [\"IN\",\"\",\"\",\"\"],#S01_put\n",
        "              [\"\",\"IN OUT\",\"\",\"\"],#So2_get\n",
        "              [\"\",\"\",\"IN\",\"\"],#So3_post\n",
        "              [\"\",\"\",\"\",\"IN\"]#So4_delete\n",
        "] ).T  #data\n",
        "\n",
        "#df_exCRUD.columns = [\"Task\",\"Ds1\",\"Ds2\",\"So1_put\",\"So2_get\",\"S03_update\",\"So4_delete\"]  #カラム名を付ける\n",
        "df_exCRUD.columns = [\"Task\",\"Ds1\",\"So1_put\",\"So2_get\",\"S03_update\",\"So4_delete\"]  #カラム名を付ける\n",
        "df_exCRUD.index   = [\"T1\",\"T2\",\"T3\",\"T4\"]  #インデックス名を付ける\n",
        "df_exCRUD\n",
        "\n"
      ],
      "execution_count": 12,
      "outputs": [
        {
          "output_type": "execute_result",
          "data": {
            "text/html": [
              "<div>\n",
              "<style scoped>\n",
              "    .dataframe tbody tr th:only-of-type {\n",
              "        vertical-align: middle;\n",
              "    }\n",
              "\n",
              "    .dataframe tbody tr th {\n",
              "        vertical-align: top;\n",
              "    }\n",
              "\n",
              "    .dataframe thead th {\n",
              "        text-align: right;\n",
              "    }\n",
              "</style>\n",
              "<table border=\"1\" class=\"dataframe\">\n",
              "  <thead>\n",
              "    <tr style=\"text-align: right;\">\n",
              "      <th></th>\n",
              "      <th>Task</th>\n",
              "      <th>Ds1</th>\n",
              "      <th>So1_put</th>\n",
              "      <th>So2_get</th>\n",
              "      <th>S03_update</th>\n",
              "      <th>So4_delete</th>\n",
              "    </tr>\n",
              "  </thead>\n",
              "  <tbody>\n",
              "    <tr>\n",
              "      <th>T1</th>\n",
              "      <td>T1_put</td>\n",
              "      <td>C</td>\n",
              "      <td>IN</td>\n",
              "      <td></td>\n",
              "      <td></td>\n",
              "      <td></td>\n",
              "    </tr>\n",
              "    <tr>\n",
              "      <th>T2</th>\n",
              "      <td>T2_get</td>\n",
              "      <td>R</td>\n",
              "      <td></td>\n",
              "      <td>IN OUT</td>\n",
              "      <td></td>\n",
              "      <td></td>\n",
              "    </tr>\n",
              "    <tr>\n",
              "      <th>T3</th>\n",
              "      <td>T3_post</td>\n",
              "      <td>U</td>\n",
              "      <td></td>\n",
              "      <td></td>\n",
              "      <td>IN</td>\n",
              "      <td></td>\n",
              "    </tr>\n",
              "    <tr>\n",
              "      <th>T4</th>\n",
              "      <td>T4_delete</td>\n",
              "      <td>D</td>\n",
              "      <td></td>\n",
              "      <td></td>\n",
              "      <td></td>\n",
              "      <td>IN</td>\n",
              "    </tr>\n",
              "  </tbody>\n",
              "</table>\n",
              "</div>"
            ],
            "text/plain": [
              "         Task Ds1 So1_put So2_get S03_update So4_delete\n",
              "T1     T1_put   C      IN                              \n",
              "T2     T2_get   R          IN OUT                      \n",
              "T3    T3_post   U                         IN           \n",
              "T4  T4_delete   D                                    IN"
            ]
          },
          "metadata": {
            "tags": []
          },
          "execution_count": 12
        }
      ]
    },
    {
      "metadata": {
        "id": "qV0SDKQtDnfR",
        "colab_type": "text"
      },
      "cell_type": "markdown",
      "source": [
        ""
      ]
    },
    {
      "metadata": {
        "id": "1yb9fTF-02SY",
        "colab_type": "code",
        "outputId": "577938c6-1b34-40ea-aed2-a410d1e1a46a",
        "colab": {
          "base_uri": "https://localhost:8080/",
          "height": 85
        }
      },
      "cell_type": "code",
      "source": [
        "#Retreave P{T}.\n",
        "\n",
        "import pandas as pd\n",
        "#exCRUDからDsに対してCUDの物を取り出す\n",
        "df_PT = df_exCRUD.query(\"Ds1 == 'C' | Ds1 == 'U' | Ds1 == 'D' \")\n",
        "\n",
        "df_PT['Task']"
      ],
      "execution_count": 13,
      "outputs": [
        {
          "output_type": "execute_result",
          "data": {
            "text/plain": [
              "T1       T1_put\n",
              "T3      T3_post\n",
              "T4    T4_delete\n",
              "Name: Task, dtype: object"
            ]
          },
          "metadata": {
            "tags": []
          },
          "execution_count": 13
        }
      ]
    },
    {
      "metadata": {
        "id": "A9ueuwTd05Gn",
        "colab_type": "code",
        "outputId": "bb871e8e-948f-474b-ae18-048d7d64ccd9",
        "colab": {
          "base_uri": "https://localhost:8080/",
          "height": 173
        }
      },
      "cell_type": "code",
      "source": [
        "import pandas as pd\n",
        "df_maxCRUD =\\\n",
        "pd.DataFrame([\n",
        "              [\"N\",\"Y\",\"Y\",\"Y\"],\n",
        "              [\"N\",\"N\",\"N\",\"N\"],\n",
        "              [\"N\",\"Y\",\"Y\",\"Y\"],\n",
        "              [\"Y\",\"N\",\"N\",\"N\"]\n",
        "] ).T  #data\n",
        "\n",
        "df_maxCRUD.columns = [\"C_PT\", \"R_PT\", \"U_PT\", \"D_PT\"]\n",
        "df_maxCRUD.index = [\"C\", \"R\",\"U\",\"D\"]\n",
        "\n",
        "df_maxCRUD"
      ],
      "execution_count": 14,
      "outputs": [
        {
          "output_type": "execute_result",
          "data": {
            "text/html": [
              "<div>\n",
              "<style scoped>\n",
              "    .dataframe tbody tr th:only-of-type {\n",
              "        vertical-align: middle;\n",
              "    }\n",
              "\n",
              "    .dataframe tbody tr th {\n",
              "        vertical-align: top;\n",
              "    }\n",
              "\n",
              "    .dataframe thead th {\n",
              "        text-align: right;\n",
              "    }\n",
              "</style>\n",
              "<table border=\"1\" class=\"dataframe\">\n",
              "  <thead>\n",
              "    <tr style=\"text-align: right;\">\n",
              "      <th></th>\n",
              "      <th>C_PT</th>\n",
              "      <th>R_PT</th>\n",
              "      <th>U_PT</th>\n",
              "      <th>D_PT</th>\n",
              "    </tr>\n",
              "  </thead>\n",
              "  <tbody>\n",
              "    <tr>\n",
              "      <th>C</th>\n",
              "      <td>N</td>\n",
              "      <td>N</td>\n",
              "      <td>N</td>\n",
              "      <td>Y</td>\n",
              "    </tr>\n",
              "    <tr>\n",
              "      <th>R</th>\n",
              "      <td>Y</td>\n",
              "      <td>N</td>\n",
              "      <td>Y</td>\n",
              "      <td>N</td>\n",
              "    </tr>\n",
              "    <tr>\n",
              "      <th>U</th>\n",
              "      <td>Y</td>\n",
              "      <td>N</td>\n",
              "      <td>Y</td>\n",
              "      <td>N</td>\n",
              "    </tr>\n",
              "    <tr>\n",
              "      <th>D</th>\n",
              "      <td>Y</td>\n",
              "      <td>N</td>\n",
              "      <td>Y</td>\n",
              "      <td>N</td>\n",
              "    </tr>\n",
              "  </tbody>\n",
              "</table>\n",
              "</div>"
            ],
            "text/plain": [
              "  C_PT R_PT U_PT D_PT\n",
              "C    N    N    N    Y\n",
              "R    Y    N    Y    N\n",
              "U    Y    N    Y    N\n",
              "D    Y    N    Y    N"
            ]
          },
          "metadata": {
            "tags": []
          },
          "execution_count": 14
        }
      ]
    },
    {
      "metadata": {
        "id": "DV7ylk-3072c",
        "colab_type": "code",
        "outputId": "4cafdd7f-d53d-4a5d-9e5d-3381b6c7d790",
        "colab": {
          "base_uri": "https://localhost:8080/",
          "height": 34
        }
      },
      "cell_type": "code",
      "source": [
        "#P{T}変更タスクを固定する\n",
        "#p = \"T1_put\"\n",
        "#p = \"T2_get\"\n",
        "#p = \"T3_post\"\n",
        "p = \"T4_delete\"\n",
        "p\n"
      ],
      "execution_count": 30,
      "outputs": [
        {
          "output_type": "execute_result",
          "data": {
            "text/plain": [
              "'T4_delete'"
            ]
          },
          "metadata": {
            "tags": []
          },
          "execution_count": 30
        }
      ]
    },
    {
      "metadata": {
        "id": "TXeeeut708qo",
        "colab_type": "code",
        "outputId": "7e411e52-592a-4e64-ce7a-badabc44ac28",
        "colab": {
          "base_uri": "https://localhost:8080/",
          "height": 34
        }
      },
      "cell_type": "code",
      "source": [
        "#拡張CRUDから変更タスクのCRUD属性を検索する\n",
        "df_PT_CRUD = df_exCRUD.query(\"Task == @p\")\n",
        "df_PT_CRUD\n",
        "PT_CRUD = df_PT_CRUD.iloc[0,1]\n",
        "PT_CRUD\n"
      ],
      "execution_count": 31,
      "outputs": [
        {
          "output_type": "execute_result",
          "data": {
            "text/plain": [
              "'D'"
            ]
          },
          "metadata": {
            "tags": []
          },
          "execution_count": 31
        }
      ]
    },
    {
      "metadata": {
        "id": "Qa3yEC260-2C",
        "colab_type": "code",
        "outputId": "15e4226e-7860-455f-dcd9-970a75f3ac1f",
        "colab": {
          "base_uri": "https://localhost:8080/",
          "height": 34
        }
      },
      "cell_type": "code",
      "source": [
        "#固定したPTの持つCRUDの値のmaxCRUDの列情報を取り出し、YのCRUD属性を取り出す。\n",
        "s = PT_CRUD + \"_PT\"\n",
        "#var_tmp = var[0]\n",
        "#ST_list = list(df_maxCRUD.query(\"U_PT == 'Y'\").index)\n",
        "ST_list = list(df_maxCRUD.query('{} == \"Y\"'.format(s)).index)\n",
        "ST_list"
      ],
      "execution_count": 32,
      "outputs": [
        {
          "output_type": "execute_result",
          "data": {
            "text/plain": [
              "['C']"
            ]
          },
          "metadata": {
            "tags": []
          },
          "execution_count": 32
        }
      ]
    },
    {
      "metadata": {
        "id": "ZVdmdJq41BCg",
        "colab_type": "code",
        "outputId": "504d446f-4d68-4e1e-92d2-055e7fd2b39b",
        "colab": {
          "base_uri": "https://localhost:8080/",
          "height": 51
        }
      },
      "cell_type": "code",
      "source": [
        "#拡張CRUDからRUDをDsの属性に持つタスクを抽出する\n",
        "s_list = []\n",
        "for i in ST_list:\n",
        "    tmp = df_exCRUD.query(\"Ds1 == @i\")\n",
        "    length = (len(list(tmp.index)))\n",
        "    y = 0\n",
        "    while y< length:\n",
        "        print(tmp.iloc[y,0])\n",
        "        s_list.append(tmp.iloc[y,0])\n",
        "        y += 1\n",
        "print(s_list)"
      ],
      "execution_count": 33,
      "outputs": [
        {
          "output_type": "stream",
          "text": [
            "T1_put\n",
            "['T1_put']\n"
          ],
          "name": "stdout"
        }
      ]
    },
    {
      "metadata": {
        "id": "ga-6AcPm1DWD",
        "colab_type": "code",
        "outputId": "5fa42f27-fd88-46a1-dc6e-7f61ce670fec",
        "colab": {
          "base_uri": "https://localhost:8080/",
          "height": 34
        }
      },
      "cell_type": "code",
      "source": [
        "#組み合わせを作って表示\n",
        "result = []\n",
        "for i in s_list:\n",
        "    if i == p:\n",
        "        continue\n",
        "    result.append(p +' --> '+ i)\n",
        "\n",
        "result"
      ],
      "execution_count": 34,
      "outputs": [
        {
          "output_type": "execute_result",
          "data": {
            "text/plain": [
              "['T4_delete --> T1_put']"
            ]
          },
          "metadata": {
            "tags": []
          },
          "execution_count": 34
        }
      ]
    },
    {
      "metadata": {
        "id": "YfaSqeyR-Cm0",
        "colab_type": "code",
        "colab": {}
      },
      "cell_type": "code",
      "source": [
        ""
      ],
      "execution_count": 0,
      "outputs": []
    },
    {
      "metadata": {
        "id": "BXSy1KL6-DTu",
        "colab_type": "text"
      },
      "cell_type": "markdown",
      "source": [
        ""
      ]
    },
    {
      "metadata": {
        "id": "nSgIWCLNDsUK",
        "colab_type": "text"
      },
      "cell_type": "markdown",
      "source": [
        ""
      ]
    }
  ]
}